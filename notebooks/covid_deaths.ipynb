{
 "cells": [
  {
   "cell_type": "markdown",
   "metadata": {},
   "source": [
    "Data contents:\n",
    "\n",
    "UF, Tipo de doença, Local de óbito, Faixa etária, Sexo"
   ]
  },
  {
   "cell_type": "code",
   "execution_count": 3,
   "metadata": {},
   "outputs": [],
   "source": [
    "import pandas as pd\n",
    "import seaborn as sns\n",
    "import matplotlib.pyplot as plt"
   ]
  },
  {
   "cell_type": "code",
   "execution_count": 4,
   "metadata": {},
   "outputs": [],
   "source": [
    "path_2019 = \"..\\data\\obitos-2019.csv\"\n",
    "path_2020 = \"..\\data\\obitos-2020.csv\"\n",
    "path_2021 = \"..\\data\\obitos-2021.csv\"\n",
    "path_2022 = \"..\\data\\obitos-2022.csv\""
   ]
  },
  {
   "cell_type": "code",
   "execution_count": 5,
   "metadata": {},
   "outputs": [
    {
     "name": "stdout",
     "output_type": "stream",
     "text": [
      "data_2019 has 12628 rows and 6 columns.\n",
      "data_2020 has 15417 rows and 6 columns.\n",
      "data_2021 has 15435 rows and 6 columns.\n",
      "data_2022 has 13604 rows and 6 columns.\n"
     ]
    }
   ],
   "source": [
    "data_2019 = pd.read_csv(path_2019)\n",
    "data_2020 = pd.read_csv(path_2020)\n",
    "data_2021 = pd.read_csv(path_2021)\n",
    "data_2022 = pd.read_csv(path_2022)\n",
    "\n",
    "\n",
    "print(f\"data_2019 has {data_2019.shape[0]} rows and {data_2019.shape[1]} columns.\")\n",
    "print(f\"data_2020 has {data_2020.shape[0]} rows and {data_2020.shape[1]} columns.\")\n",
    "print(f\"data_2021 has {data_2021.shape[0]} rows and {data_2021.shape[1]} columns.\")\n",
    "print(f\"data_2022 has {data_2022.shape[0]} rows and {data_2022.shape[1]} columns.\")"
   ]
  },
  {
   "cell_type": "code",
   "execution_count": 6,
   "metadata": {},
   "outputs": [
    {
     "data": {
      "text/html": [
       "<div>\n",
       "<style scoped>\n",
       "    .dataframe tbody tr th:only-of-type {\n",
       "        vertical-align: middle;\n",
       "    }\n",
       "\n",
       "    .dataframe tbody tr th {\n",
       "        vertical-align: top;\n",
       "    }\n",
       "\n",
       "    .dataframe thead th {\n",
       "        text-align: right;\n",
       "    }\n",
       "</style>\n",
       "<table border=\"1\" class=\"dataframe\">\n",
       "  <thead>\n",
       "    <tr style=\"text-align: right;\">\n",
       "      <th></th>\n",
       "      <th>uf</th>\n",
       "      <th>tipo_doenca</th>\n",
       "      <th>local_obito</th>\n",
       "      <th>faixa_etaria</th>\n",
       "      <th>sexo</th>\n",
       "      <th>total</th>\n",
       "    </tr>\n",
       "  </thead>\n",
       "  <tbody>\n",
       "    <tr>\n",
       "      <th>0</th>\n",
       "      <td>AC</td>\n",
       "      <td>OUTRAS</td>\n",
       "      <td>DOMICILIO</td>\n",
       "      <td>&lt; 9</td>\n",
       "      <td>F</td>\n",
       "      <td>8</td>\n",
       "    </tr>\n",
       "    <tr>\n",
       "      <th>1</th>\n",
       "      <td>AC</td>\n",
       "      <td>OUTRAS</td>\n",
       "      <td>DOMICILIO</td>\n",
       "      <td>&lt; 9</td>\n",
       "      <td>M</td>\n",
       "      <td>16</td>\n",
       "    </tr>\n",
       "    <tr>\n",
       "      <th>2</th>\n",
       "      <td>AC</td>\n",
       "      <td>OUTRAS</td>\n",
       "      <td>HOSPITAL</td>\n",
       "      <td>&lt; 9</td>\n",
       "      <td>F</td>\n",
       "      <td>47</td>\n",
       "    </tr>\n",
       "    <tr>\n",
       "      <th>3</th>\n",
       "      <td>AC</td>\n",
       "      <td>OUTRAS</td>\n",
       "      <td>HOSPITAL</td>\n",
       "      <td>&lt; 9</td>\n",
       "      <td>M</td>\n",
       "      <td>70</td>\n",
       "    </tr>\n",
       "    <tr>\n",
       "      <th>4</th>\n",
       "      <td>AC</td>\n",
       "      <td>OUTRAS</td>\n",
       "      <td>IGNORADO</td>\n",
       "      <td>&lt; 9</td>\n",
       "      <td>M</td>\n",
       "      <td>1</td>\n",
       "    </tr>\n",
       "  </tbody>\n",
       "</table>\n",
       "</div>"
      ],
      "text/plain": [
       "   uf tipo_doenca local_obito faixa_etaria sexo  total\n",
       "0  AC      OUTRAS   DOMICILIO          < 9    F      8\n",
       "1  AC      OUTRAS   DOMICILIO          < 9    M     16\n",
       "2  AC      OUTRAS    HOSPITAL          < 9    F     47\n",
       "3  AC      OUTRAS    HOSPITAL          < 9    M     70\n",
       "4  AC      OUTRAS    IGNORADO          < 9    M      1"
      ]
     },
     "execution_count": 6,
     "metadata": {},
     "output_type": "execute_result"
    }
   ],
   "source": [
    "data_2019.head()"
   ]
  },
  {
   "cell_type": "code",
   "execution_count": 7,
   "metadata": {},
   "outputs": [
    {
     "data": {
      "text/html": [
       "<div>\n",
       "<style scoped>\n",
       "    .dataframe tbody tr th:only-of-type {\n",
       "        vertical-align: middle;\n",
       "    }\n",
       "\n",
       "    .dataframe tbody tr th {\n",
       "        vertical-align: top;\n",
       "    }\n",
       "\n",
       "    .dataframe thead th {\n",
       "        text-align: right;\n",
       "    }\n",
       "</style>\n",
       "<table border=\"1\" class=\"dataframe\">\n",
       "  <thead>\n",
       "    <tr style=\"text-align: right;\">\n",
       "      <th></th>\n",
       "      <th>uf</th>\n",
       "      <th>tipo_doenca</th>\n",
       "      <th>local_obito</th>\n",
       "      <th>faixa_etaria</th>\n",
       "      <th>sexo</th>\n",
       "      <th>total</th>\n",
       "    </tr>\n",
       "  </thead>\n",
       "  <tbody>\n",
       "    <tr>\n",
       "      <th>0</th>\n",
       "      <td>AC</td>\n",
       "      <td>OUTRAS</td>\n",
       "      <td>DOMICILIO</td>\n",
       "      <td>&lt; 9</td>\n",
       "      <td>F</td>\n",
       "      <td>7</td>\n",
       "    </tr>\n",
       "    <tr>\n",
       "      <th>1</th>\n",
       "      <td>AC</td>\n",
       "      <td>OUTRAS</td>\n",
       "      <td>DOMICILIO</td>\n",
       "      <td>&lt; 9</td>\n",
       "      <td>M</td>\n",
       "      <td>11</td>\n",
       "    </tr>\n",
       "    <tr>\n",
       "      <th>2</th>\n",
       "      <td>AC</td>\n",
       "      <td>OUTRAS</td>\n",
       "      <td>HOSPITAL</td>\n",
       "      <td>&lt; 9</td>\n",
       "      <td>F</td>\n",
       "      <td>65</td>\n",
       "    </tr>\n",
       "    <tr>\n",
       "      <th>3</th>\n",
       "      <td>AC</td>\n",
       "      <td>OUTRAS</td>\n",
       "      <td>HOSPITAL</td>\n",
       "      <td>&lt; 9</td>\n",
       "      <td>I</td>\n",
       "      <td>1</td>\n",
       "    </tr>\n",
       "    <tr>\n",
       "      <th>4</th>\n",
       "      <td>AC</td>\n",
       "      <td>OUTRAS</td>\n",
       "      <td>HOSPITAL</td>\n",
       "      <td>&lt; 9</td>\n",
       "      <td>M</td>\n",
       "      <td>67</td>\n",
       "    </tr>\n",
       "  </tbody>\n",
       "</table>\n",
       "</div>"
      ],
      "text/plain": [
       "   uf tipo_doenca local_obito faixa_etaria sexo  total\n",
       "0  AC      OUTRAS   DOMICILIO          < 9    F      7\n",
       "1  AC      OUTRAS   DOMICILIO          < 9    M     11\n",
       "2  AC      OUTRAS    HOSPITAL          < 9    F     65\n",
       "3  AC      OUTRAS    HOSPITAL          < 9    I      1\n",
       "4  AC      OUTRAS    HOSPITAL          < 9    M     67"
      ]
     },
     "execution_count": 7,
     "metadata": {},
     "output_type": "execute_result"
    }
   ],
   "source": [
    "data_2020.head()"
   ]
  },
  {
   "cell_type": "code",
   "execution_count": 8,
   "metadata": {},
   "outputs": [
    {
     "data": {
      "text/html": [
       "<div>\n",
       "<style scoped>\n",
       "    .dataframe tbody tr th:only-of-type {\n",
       "        vertical-align: middle;\n",
       "    }\n",
       "\n",
       "    .dataframe tbody tr th {\n",
       "        vertical-align: top;\n",
       "    }\n",
       "\n",
       "    .dataframe thead th {\n",
       "        text-align: right;\n",
       "    }\n",
       "</style>\n",
       "<table border=\"1\" class=\"dataframe\">\n",
       "  <thead>\n",
       "    <tr style=\"text-align: right;\">\n",
       "      <th></th>\n",
       "      <th>uf</th>\n",
       "      <th>tipo_doenca</th>\n",
       "      <th>local_obito</th>\n",
       "      <th>faixa_etaria</th>\n",
       "      <th>sexo</th>\n",
       "      <th>total</th>\n",
       "    </tr>\n",
       "  </thead>\n",
       "  <tbody>\n",
       "    <tr>\n",
       "      <th>0</th>\n",
       "      <td>AC</td>\n",
       "      <td>OUTRAS</td>\n",
       "      <td>DOMICILIO</td>\n",
       "      <td>&lt; 9</td>\n",
       "      <td>F</td>\n",
       "      <td>11</td>\n",
       "    </tr>\n",
       "    <tr>\n",
       "      <th>1</th>\n",
       "      <td>AC</td>\n",
       "      <td>OUTRAS</td>\n",
       "      <td>DOMICILIO</td>\n",
       "      <td>&lt; 9</td>\n",
       "      <td>M</td>\n",
       "      <td>21</td>\n",
       "    </tr>\n",
       "    <tr>\n",
       "      <th>2</th>\n",
       "      <td>AC</td>\n",
       "      <td>OUTRAS</td>\n",
       "      <td>HOSPITAL</td>\n",
       "      <td>&lt; 9</td>\n",
       "      <td>F</td>\n",
       "      <td>63</td>\n",
       "    </tr>\n",
       "    <tr>\n",
       "      <th>3</th>\n",
       "      <td>AC</td>\n",
       "      <td>OUTRAS</td>\n",
       "      <td>HOSPITAL</td>\n",
       "      <td>&lt; 9</td>\n",
       "      <td>I</td>\n",
       "      <td>4</td>\n",
       "    </tr>\n",
       "    <tr>\n",
       "      <th>4</th>\n",
       "      <td>AC</td>\n",
       "      <td>OUTRAS</td>\n",
       "      <td>HOSPITAL</td>\n",
       "      <td>&lt; 9</td>\n",
       "      <td>M</td>\n",
       "      <td>57</td>\n",
       "    </tr>\n",
       "  </tbody>\n",
       "</table>\n",
       "</div>"
      ],
      "text/plain": [
       "   uf tipo_doenca local_obito faixa_etaria sexo  total\n",
       "0  AC      OUTRAS   DOMICILIO          < 9    F     11\n",
       "1  AC      OUTRAS   DOMICILIO          < 9    M     21\n",
       "2  AC      OUTRAS    HOSPITAL          < 9    F     63\n",
       "3  AC      OUTRAS    HOSPITAL          < 9    I      4\n",
       "4  AC      OUTRAS    HOSPITAL          < 9    M     57"
      ]
     },
     "execution_count": 8,
     "metadata": {},
     "output_type": "execute_result"
    }
   ],
   "source": [
    "data_2021.head()"
   ]
  },
  {
   "cell_type": "code",
   "execution_count": 9,
   "metadata": {},
   "outputs": [
    {
     "data": {
      "text/html": [
       "<div>\n",
       "<style scoped>\n",
       "    .dataframe tbody tr th:only-of-type {\n",
       "        vertical-align: middle;\n",
       "    }\n",
       "\n",
       "    .dataframe tbody tr th {\n",
       "        vertical-align: top;\n",
       "    }\n",
       "\n",
       "    .dataframe thead th {\n",
       "        text-align: right;\n",
       "    }\n",
       "</style>\n",
       "<table border=\"1\" class=\"dataframe\">\n",
       "  <thead>\n",
       "    <tr style=\"text-align: right;\">\n",
       "      <th></th>\n",
       "      <th>uf</th>\n",
       "      <th>tipo_doenca</th>\n",
       "      <th>local_obito</th>\n",
       "      <th>faixa_etaria</th>\n",
       "      <th>sexo</th>\n",
       "      <th>total</th>\n",
       "    </tr>\n",
       "  </thead>\n",
       "  <tbody>\n",
       "    <tr>\n",
       "      <th>7369</th>\n",
       "      <td>RJ</td>\n",
       "      <td>SEPTICEMIA</td>\n",
       "      <td>VIA_PUBLICA</td>\n",
       "      <td>60 - 69</td>\n",
       "      <td>F</td>\n",
       "      <td>1</td>\n",
       "    </tr>\n",
       "    <tr>\n",
       "      <th>3728</th>\n",
       "      <td>AL</td>\n",
       "      <td>INSUFICIENCIA_RESPIRATORIA</td>\n",
       "      <td>OUTRO</td>\n",
       "      <td>40 - 49</td>\n",
       "      <td>M</td>\n",
       "      <td>1</td>\n",
       "    </tr>\n",
       "    <tr>\n",
       "      <th>6443</th>\n",
       "      <td>AP</td>\n",
       "      <td>SEPTICEMIA</td>\n",
       "      <td>HOSPITAL</td>\n",
       "      <td>60 - 69</td>\n",
       "      <td>F</td>\n",
       "      <td>16</td>\n",
       "    </tr>\n",
       "    <tr>\n",
       "      <th>3655</th>\n",
       "      <td>SP</td>\n",
       "      <td>SEPTICEMIA</td>\n",
       "      <td>VIA_PUBLICA</td>\n",
       "      <td>30 - 39</td>\n",
       "      <td>M</td>\n",
       "      <td>4</td>\n",
       "    </tr>\n",
       "    <tr>\n",
       "      <th>10870</th>\n",
       "      <td>TO</td>\n",
       "      <td>SRAG</td>\n",
       "      <td>HOSPITAL</td>\n",
       "      <td>80 - 89</td>\n",
       "      <td>M</td>\n",
       "      <td>1</td>\n",
       "    </tr>\n",
       "  </tbody>\n",
       "</table>\n",
       "</div>"
      ],
      "text/plain": [
       "       uf                 tipo_doenca  local_obito faixa_etaria sexo  total\n",
       "7369   RJ                  SEPTICEMIA  VIA_PUBLICA      60 - 69    F      1\n",
       "3728   AL  INSUFICIENCIA_RESPIRATORIA        OUTRO      40 - 49    M      1\n",
       "6443   AP                  SEPTICEMIA     HOSPITAL      60 - 69    F     16\n",
       "3655   SP                  SEPTICEMIA  VIA_PUBLICA      30 - 39    M      4\n",
       "10870  TO                        SRAG     HOSPITAL      80 - 89    M      1"
      ]
     },
     "execution_count": 9,
     "metadata": {},
     "output_type": "execute_result"
    }
   ],
   "source": [
    "data_2022.sample(5)\n",
    "\n"
   ]
  },
  {
   "cell_type": "code",
   "execution_count": 10,
   "metadata": {},
   "outputs": [
    {
     "name": "stdout",
     "output_type": "stream",
     "text": [
      "27 27 27 27\n"
     ]
    }
   ],
   "source": [
    "# Cheking if the number of states is correct\n",
    "print(len(data_2019[\"uf\"].unique()), len(data_2020[\"uf\"].unique()), len(data_2021[\"uf\"].unique()), len(data_2022[\"uf\"].unique()))"
   ]
  },
  {
   "cell_type": "code",
   "execution_count": 22,
   "metadata": {},
   "outputs": [
    {
     "ename": "TypeError",
     "evalue": "unhashable type: 'list'",
     "output_type": "error",
     "traceback": [
      "\u001b[1;31m---------------------------------------------------------------------------\u001b[0m",
      "\u001b[1;31mTypeError\u001b[0m                                 Traceback (most recent call last)",
      "Cell \u001b[1;32mIn [22], line 2\u001b[0m\n\u001b[0;32m      1\u001b[0m total_2019 \u001b[38;5;241m=\u001b[39m data_2019\u001b[38;5;241m.\u001b[39mgroupby([\u001b[38;5;124m'\u001b[39m\u001b[38;5;124mtipo_doenca\u001b[39m\u001b[38;5;124m'\u001b[39m])\u001b[38;5;241m.\u001b[39msum()\n\u001b[1;32m----> 2\u001b[0m \u001b[43mtotal_2019\u001b[49m\u001b[38;5;241;43m.\u001b[39;49m\u001b[43mloc\u001b[49m\u001b[43m(\u001b[49m\u001b[43m[\u001b[49m\u001b[38;5;124;43m'\u001b[39;49m\u001b[38;5;124;43mCOVID\u001b[39;49m\u001b[38;5;124;43m'\u001b[39;49m\u001b[43m]\u001b[49m\u001b[43m)\u001b[49m\n",
      "File \u001b[1;32mc:\\Users\\paulolins\\data_com_streamlit\\covid_analysis\\venv_streamlit\\lib\\site-packages\\pandas\\core\\indexing.py:634\u001b[0m, in \u001b[0;36m_LocationIndexer.__call__\u001b[1;34m(self, axis)\u001b[0m\n\u001b[0;32m    631\u001b[0m new_self \u001b[39m=\u001b[39m \u001b[39mtype\u001b[39m(\u001b[39mself\u001b[39m)(\u001b[39mself\u001b[39m\u001b[39m.\u001b[39mname, \u001b[39mself\u001b[39m\u001b[39m.\u001b[39mobj)\n\u001b[0;32m    633\u001b[0m \u001b[39mif\u001b[39;00m axis \u001b[39mis\u001b[39;00m \u001b[39mnot\u001b[39;00m \u001b[39mNone\u001b[39;00m:\n\u001b[1;32m--> 634\u001b[0m     axis \u001b[39m=\u001b[39m \u001b[39mself\u001b[39;49m\u001b[39m.\u001b[39;49mobj\u001b[39m.\u001b[39;49m_get_axis_number(axis)\n\u001b[0;32m    635\u001b[0m new_self\u001b[39m.\u001b[39maxis \u001b[39m=\u001b[39m axis\n\u001b[0;32m    636\u001b[0m \u001b[39mreturn\u001b[39;00m new_self\n",
      "File \u001b[1;32mc:\\Users\\paulolins\\data_com_streamlit\\covid_analysis\\venv_streamlit\\lib\\site-packages\\pandas\\core\\generic.py:550\u001b[0m, in \u001b[0;36mNDFrame._get_axis_number\u001b[1;34m(cls, axis)\u001b[0m\n\u001b[0;32m    546\u001b[0m \u001b[39m@final\u001b[39m\n\u001b[0;32m    547\u001b[0m \u001b[39m@classmethod\u001b[39m\n\u001b[0;32m    548\u001b[0m \u001b[39mdef\u001b[39;00m \u001b[39m_get_axis_number\u001b[39m(\u001b[39mcls\u001b[39m, axis: Axis) \u001b[39m-\u001b[39m\u001b[39m>\u001b[39m \u001b[39mint\u001b[39m:\n\u001b[0;32m    549\u001b[0m     \u001b[39mtry\u001b[39;00m:\n\u001b[1;32m--> 550\u001b[0m         \u001b[39mreturn\u001b[39;00m \u001b[39mcls\u001b[39;49m\u001b[39m.\u001b[39;49m_AXIS_TO_AXIS_NUMBER[axis]\n\u001b[0;32m    551\u001b[0m     \u001b[39mexcept\u001b[39;00m \u001b[39mKeyError\u001b[39;00m:\n\u001b[0;32m    552\u001b[0m         \u001b[39mraise\u001b[39;00m \u001b[39mValueError\u001b[39;00m(\u001b[39mf\u001b[39m\u001b[39m\"\u001b[39m\u001b[39mNo axis named \u001b[39m\u001b[39m{\u001b[39;00maxis\u001b[39m}\u001b[39;00m\u001b[39m for object type \u001b[39m\u001b[39m{\u001b[39;00m\u001b[39mcls\u001b[39m\u001b[39m.\u001b[39m\u001b[39m__name__\u001b[39m\u001b[39m}\u001b[39;00m\u001b[39m\"\u001b[39m)\n",
      "\u001b[1;31mTypeError\u001b[0m: unhashable type: 'list'"
     ]
    }
   ],
   "source": []
  },
  {
   "cell_type": "code",
   "execution_count": 25,
   "metadata": {},
   "outputs": [
    {
     "data": {
      "image/png": "[encoded data removed]",
      "text/plain": [
       "<Figure size 800x600 with 1 Axes>"
      ]
     },
     "metadata": {},
     "output_type": "display_data"
    }
   ],
   "source": [
    "def comparative_chart(cause):\n",
    "    total_deaths_2019 = data_2019.groupby(['tipo_doenca']).sum()\n",
    "    total_deaths_2020 = data_2020.groupby(['tipo_doenca']).sum()\n",
    "    total_deaths_2021 = data_2021.groupby(['tipo_doenca']).sum()\n",
    "    total_deaths_2022 = data_2022.groupby(['tipo_doenca']).sum()\n",
    "    list_cause = [int(total_deaths_2019.loc[cause]), int(total_deaths_2020.loc[cause]), int(total_deaths_2021.loc[cause]), int(total_deaths_2022.loc[cause])]\n",
    "    data_list = pd.DataFrame({'Total': list_cause,\n",
    "                              'Year': [2019, 2020, 2021, 2022]})\n",
    "\n",
    "    plt.figure(figsize=(8, 6))\n",
    "    sns.barplot(x = 'Year', y = 'Total', data = data_list)\n",
    "    plt.title(f'Deaths by {cause}')\n",
    "    plt.show()\n",
    "\n",
    "comparative_chart(\"COVID\")"
   ]
  },
  {
   "cell_type": "code",
   "execution_count": 36,
   "metadata": {},
   "outputs": [
    {
     "data": {
      "image/png": "[encoded data removed]",
      "text/plain": [
       "<Figure size 800x600 with 1 Axes>"
      ]
     },
     "metadata": {},
     "output_type": "display_data"
    }
   ],
   "source": [
    "def comparative_chart(state, cause):\n",
    "    total_deaths_2019 = data_2019.groupby(['uf', 'tipo_doenca']).sum()\n",
    "    total_deaths_2020 = data_2020.groupby(['uf', 'tipo_doenca']).sum()\n",
    "    total_deaths_2021 = data_2021.groupby(['uf', 'tipo_doenca']).sum()\n",
    "    total_deaths_2022 = data_2022.groupby(['uf', 'tipo_doenca']).sum()\n",
    "    list_cause = [int(total_deaths_2019.loc[state, cause]), int(total_deaths_2020.loc[state, cause]), int(total_deaths_2021.loc[state, cause]), int(total_deaths_2022.loc[state, cause])]\n",
    "    data_list = pd.DataFrame({'Total': list_cause,\n",
    "                              'Year': [2019, 2020, 2021, 2022]})\n",
    "\n",
    "    plt.figure(figsize=(8, 6))\n",
    "    sns.barplot(x = 'Year', y = 'Total', data = data_list)\n",
    "    plt.title(f'Deaths by {cause} at {state}')\n",
    "    plt.show()\n",
    "\n",
    "comparative_chart(\"CE\", \"SRAG\")"
   ]
  },
  {
   "cell_type": "code",
   "execution_count": 34,
   "metadata": {},
   "outputs": [
    {
     "data": {
      "text/plain": [
       "total    45\n",
       "Name: (CE, SRAG), dtype: int64"
      ]
     },
     "execution_count": 34,
     "metadata": {},
     "output_type": "execute_result"
    }
   ],
   "source": [
    "t = data_2019.groupby(['uf', 'tipo_doenca']).sum()\n",
    "t.loc[\"CE\", \"SRAG\"]"
   ]
  },
  {
   "cell_type": "code",
   "execution_count": null,
   "metadata": {},
   "outputs": [],
   "source": []
  }
 ],
 "metadata": {
  "kernelspec": {
   "display_name": "Python 3.10.7 ('venv_streamlit': venv)",
   "language": "python",
   "name": "python3"
  },
  "language_info": {
   "codemirror_mode": {
    "name": "ipython",
    "version": 3
   },
   "file_extension": ".py",
   "mimetype": "text/x-python",
   "name": "python",
   "nbconvert_exporter": "python",
   "pygments_lexer": "ipython3",
   "version": "3.10.7"
  },
  "orig_nbformat": 4,
  "vscode": {
   "interpreter": {
    "hash": "6140ade98d2a61877860136920ac4a692c9263490cf3851bbf410282270a20ab"
   }
  }
 },
 "nbformat": 4,
 "nbformat_minor": 2
}
